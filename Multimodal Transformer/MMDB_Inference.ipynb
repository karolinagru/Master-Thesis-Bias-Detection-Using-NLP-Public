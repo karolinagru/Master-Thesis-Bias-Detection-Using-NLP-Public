{
 "cells": [
  {
   "cell_type": "code",
   "execution_count": null,
   "metadata": {},
   "outputs": [],
   "source": [
    "!pip install torch, sklearn\n",
    "!pip install tensorboard\n",
    "!pip install keras tensorflow\n",
    "!pip install transformers == 3.1.0\n",
    "!pip install multimodal-transformers\n",
    "!pip install --no-cache-dir tensorflow-gpu"
   ]
  },
  {
   "cell_type": "markdown",
   "metadata": {},
   "source": [
    "## Load model"
   ]
  },
  {
   "cell_type": "code",
   "execution_count": 1,
   "metadata": {},
   "outputs": [],
   "source": [
    "import os\n",
    "import random\n",
    "import pandas as pd\n",
    "import numpy as np\n",
    "from dataclasses import dataclass, field\n",
    "import json\n",
    "import logging\n",
    "import os\n",
    "from typing import Optional\n",
    "import tensorflow as tf\n",
    "import seaborn as sns\n",
    "from datetime import datetime\n",
    "from tensorflow import keras\n",
    "from transformers.training_args import TrainingArguments\n",
    "from transformers import AutoTokenizer, AutoConfig\n",
    "from multimodal_transformers.data import load_data_from_folder\n",
    "from multimodal_transformers.model import AutoModelWithTabular, TabularConfig\n",
    "from transformers import AutoConfig\n",
    "from tensorflow.keras.preprocessing.text import Tokenizer\n",
    "from tensorflow.keras.preprocessing.sequence import pad_sequences\n",
    "from sklearn.preprocessing import LabelEncoder\n",
    "from sklearn.preprocessing import OneHotEncoder"
   ]
  },
  {
   "cell_type": "markdown",
   "metadata": {},
   "source": [
    "## Load test data"
   ]
  },
  {
   "cell_type": "code",
   "execution_count": 11,
   "metadata": {},
   "outputs": [],
   "source": [
    "text_cols = ['text']\n",
    "cat_cols = ['nationality', 'marital_status', 'income_group','employment_group','age_decade']\n",
    "num_cols = ['avg_res_realtor']\n",
    "\n",
    "column_info = {\n",
    "    'text_cols': text_cols,\n",
    "    'num_cols': num_cols,\n",
    "    'cat_cols': cat_cols,\n",
    "    'label_col': 'feedback_realtor',\n",
    "    'label_list': ['dismiss','reply']\n",
    "}\n",
    "\n",
    "tokenizer = AutoTokenizer.from_pretrained(\n",
    "    'distilbert-base-german-cased'\n",
    ")\n"
   ]
  },
  {
   "cell_type": "code",
   "execution_count": null,
   "metadata": {},
   "outputs": [],
   "source": [
    "train_dataset, val_dataset, test_dataset = load_data_from_folder(\n",
    "    '../MMBT/Datasets/',\n",
    "    column_info['text_cols'],\n",
    "    tokenizer,\n",
    "    label_col=column_info['label_col'],\n",
    "    label_list=column_info['label_list'],\n",
    "    categorical_cols=column_info['cat_cols'],\n",
    "    numerical_cols=column_info['num_cols'],\n",
    "    #sep_text_token_str=',',\n",
    ")"
   ]
  },
  {
   "cell_type": "code",
   "execution_count": 13,
   "metadata": {},
   "outputs": [
    {
     "name": "stdout",
     "output_type": "stream",
     "text": [
      "train_dataset:  (625410, 38)\n",
      "val_dataset:  (78176, 38)\n",
      "test_dataset:  (78177, 38)\n"
     ]
    }
   ],
   "source": [
    "print('train_dataset: ', train_dataset.df.shape)\n",
    "print('val_dataset: ', val_dataset.df.shape)\n",
    "print('test_dataset: ', test_dataset.df.shape)\n",
    "del train_dataset\n",
    "del val_dataset\n",
    "# del test_dataset\n",
    "# print(train_dataset.df.size)\n"
   ]
  },
  {
   "cell_type": "markdown",
   "metadata": {},
   "source": [
    "## Load the Multimodal DistilBERT and Predict from test"
   ]
  },
  {
   "cell_type": "code",
   "execution_count": 14,
   "metadata": {},
   "outputs": [],
   "source": [
    "from multimodal_transformers.model import (\n",
    "    DistilBertWithTabular,\n",
    ")"
   ]
  },
  {
   "cell_type": "code",
   "execution_count": 15,
   "metadata": {},
   "outputs": [],
   "source": [
    "@dataclass\n",
    "class ModelArguments:\n",
    "  \"\"\"\n",
    "  Arguments pertaining to which model/config/tokenizer we are going to fine-tune from.\n",
    "  \"\"\"\n",
    "\n",
    "  model_name_or_path: str = field(\n",
    "      metadata={\"help\": \"Path to pretrained model or model identifier from huggingface.co/models\"}\n",
    "  )\n",
    "  config_name: Optional[str] = field(\n",
    "      default=None, metadata={\"help\": \"Pretrained config name or path if not the same as model_name\"}\n",
    "  )\n",
    "  tokenizer_name: Optional[str] = field(\n",
    "      default=None, metadata={\"help\": \"Pretrained tokenizer name or path if not the same as model_name\"}\n",
    "  )\n",
    "  cache_dir: Optional[str] = field(\n",
    "      default=None, metadata={\"help\": \"Where do you want to store the pretrained models downloaded from s3\"}\n",
    "  )\n",
    "    \n",
    "    \n",
    "@dataclass\n",
    "class MultimodalDataTrainingArguments:\n",
    "  \"\"\"\n",
    "  Arguments pertaining to how we combine tabular features\n",
    "  Using `HfArgumentParser` we can turn this class\n",
    "  into argparse arguments to be able to specify them on\n",
    "  the command line.\n",
    "  \"\"\"\n",
    "\n",
    "  data_path: str = field(metadata={\n",
    "                            'help': 'the path to the csv file containing the dataset'\n",
    "                        })\n",
    "  column_info_path: str = field(\n",
    "      default=None,\n",
    "      metadata={\n",
    "          'help': 'the path to the json file detailing which columns are text, categorical, numerical, and the label'\n",
    "  })\n",
    "\n",
    "  column_info: dict = field(\n",
    "      default=None,\n",
    "      metadata={\n",
    "          'help': 'a dict referencing the text, categorical, numerical, and label columns'\n",
    "                  'its keys are text_cols, num_cols, cat_cols, and label_col'\n",
    "  })\n",
    "\n",
    "  categorical_encode_type: str = field(default='ohe',\n",
    "                                        metadata={\n",
    "                                            'help': 'sklearn encoder to use for categorical data',\n",
    "                                            'choices': ['ohe', 'binary', 'label', 'none']\n",
    "                                        })\n",
    "  numerical_transformer_method: str = field(default='yeo_johnson',\n",
    "                                            metadata={\n",
    "                                                'help': 'sklearn numerical transformer to preprocess numerical data',\n",
    "                                                'choices': ['yeo_johnson', 'box_cox', 'quantile_normal', 'none']\n",
    "                                            })\n",
    "  task: str = field(default=\"classification\",\n",
    "                    metadata={\n",
    "                        \"help\": \"The downstream training task\",\n",
    "                        \"choices\": [\"classification\", \"regression\"]\n",
    "                    })\n",
    "\n",
    "  mlp_division: int = field(default=4,\n",
    "                            metadata={\n",
    "                                'help': 'the ratio of the number of '\n",
    "                                        'hidden dims in a current layer to the next MLP layer'\n",
    "                            })\n",
    "  combine_feat_method: str = field(default='individual_mlps_on_cat_and_numerical_feats_then_concat',\n",
    "                                    metadata={\n",
    "                                        'help': 'method to combine categorical and numerical features, '\n",
    "                                                'see README for all the method'\n",
    "                                    })\n",
    "  mlp_dropout: float = field(default=0.1,\n",
    "                              metadata={\n",
    "                                'help': 'dropout ratio used for MLP layers'\n",
    "                              })\n",
    "  numerical_bn: bool = field(default=True,\n",
    "                              metadata={\n",
    "                                  'help': 'whether to use batchnorm on numerical features'\n",
    "                              })\n",
    "  use_simple_classifier: str = field(default=True,\n",
    "                                      metadata={\n",
    "                                          'help': 'whether to use single layer or MLP as final classifier'\n",
    "                                      })\n",
    "  mlp_act: str = field(default='relu',\n",
    "                        metadata={\n",
    "                            'help': 'the activation function to use for finetuning layers',\n",
    "                            'choices': ['relu', 'prelu', 'sigmoid', 'tanh', 'linear']\n",
    "                        })\n",
    "  gating_beta: float = field(default=0.2,\n",
    "                              metadata={\n",
    "                                  'help': \"the beta hyperparameters used for gating tabular data \"\n",
    "                                          \"see https://www.aclweb.org/anthology/2020.acl-main.214.pdf\"\n",
    "                              })\n",
    "\n",
    "  def __post_init__(self):\n",
    "      assert self.column_info != self.column_info_path\n",
    "      if self.column_info is None and self.column_info_path:\n",
    "          with open(self.column_info_path, 'r') as f:\n",
    "              self.column_info = json.load(f)"
   ]
  },
  {
   "cell_type": "code",
   "execution_count": 16,
   "metadata": {},
   "outputs": [
    {
     "name": "stdout",
     "output_type": "stream",
     "text": [
      "Specified tokenizer:  distilbert-base-german-cased\n"
     ]
    },
    {
     "name": "stderr",
     "output_type": "stream",
     "text": [
      "Some weights of the model checkpoint at ../MMBT/logs/model_name/saved_model_200seq_weights_2epochs/ were not used when initializing DistilBertWithTabular: ['tabular_combiner.weight_cat', 'tabular_combiner.weight_num', 'tabular_combiner.cat_layer.weight', 'tabular_combiner.cat_layer.bias', 'tabular_combiner.num_layer.weight', 'tabular_combiner.num_layer.bias', 'tabular_combiner.layer_norm.weight', 'tabular_combiner.layer_norm.bias']\n",
      "- This IS expected if you are initializing DistilBertWithTabular from the checkpoint of a model trained on another task or with another architecture (e.g. initializing a BertForSequenceClassification model from a BertForPretraining model).\n",
      "- This IS NOT expected if you are initializing DistilBertWithTabular from the checkpoint of a model that you expect to be exactly identical (initializing a BertForSequenceClassification model from a BertForSequenceClassification model).\n"
     ]
    }
   ],
   "source": [
    "column_info_dict = {\n",
    "    'text_cols': text_cols,\n",
    "    'num_cols': num_cols,\n",
    "    'cat_cols': cat_cols,\n",
    "    'label_col': 'feedback_realtor',\n",
    "    'label_list': ['dismiss','reply']\n",
    "}\n",
    "\n",
    "model_args = ModelArguments(\n",
    "    model_name_or_path='../MMBT/logs/model_name/saved_model_200seq_weights_2epochs/',\n",
    "    tokenizer_name ='distilbert-base-german-cased'\n",
    ")\n",
    "\n",
    "tokenizer_path_or_name = model_args.tokenizer_name if model_args.tokenizer_name else model_args.model_name_or_path\n",
    "print('Specified tokenizer: ', tokenizer_path_or_name)\n",
    "tokenizer = AutoTokenizer.from_pretrained(\n",
    "    tokenizer_path_or_name,\n",
    "    cache_dir=model_args.cache_dir,\n",
    ")\n",
    "\n",
    "num_labels = len(np.unique(test_dataset.labels))\n",
    "\n",
    "config = AutoConfig.from_pretrained(\n",
    "        model_args.config_name if model_args.config_name else model_args.model_name_or_path,\n",
    "        cache_dir=model_args.cache_dir,\n",
    "    )\n",
    "tabular_config = TabularConfig(num_labels=num_labels,\n",
    "                               cat_feat_dim=test_dataset.cat_feats.shape[1],\n",
    "                               numerical_feat_dim=test_dataset.numerical_feats.shape[1])\n",
    "config.tabular_config = tabular_config\n",
    "\n",
    "\n",
    "data_args = MultimodalDataTrainingArguments(\n",
    "    data_path='../MMBT/Datasets/',\n",
    "    combine_feat_method='weighted_feature_sum_on_transformer_cat_and_numerical_feats',\n",
    "    column_info=column_info_dict,\n",
    "    task='classification'\n",
    ")\n",
    "\n",
    "training_args = TrainingArguments(\n",
    "    output_dir=\"./logs/model_name/mmbt_attention_2epoch/\",\n",
    "    logging_dir=\"./logs/runs/mmbt_attention_2epoch/\",\n",
    "    overwrite_output_dir=True,\n",
    "    do_train=True,\n",
    "    do_eval=True,\n",
    "    per_device_train_batch_size=32,\n",
    "    num_train_epochs=2,\n",
    "    evaluate_during_training=True,\n",
    "    logging_steps= 10000,\n",
    "    save_steps=1500,\n",
    "    eval_steps=10000,\n",
    "    save_total_limit = 3\n",
    ")\n",
    "\n",
    "# set_seed(training_args.seed)\n",
    "\n",
    "\n",
    "\n",
    "model = AutoModelWithTabular.from_pretrained(\n",
    "        model_args.config_name if model_args.config_name else model_args.model_name_or_path,\n",
    "        config=config,\n",
    "#         from_tf=True,\n",
    "        cache_dir=model_args.cache_dir\n",
    "    )"
   ]
  },
  {
   "cell_type": "code",
   "execution_count": 17,
   "metadata": {},
   "outputs": [],
   "source": [
    "import torch"
   ]
  },
  {
   "cell_type": "code",
   "execution_count": 18,
   "metadata": {},
   "outputs": [
    {
     "data": {
      "text/plain": [
       "(78177, 38)"
      ]
     },
     "execution_count": 18,
     "metadata": {},
     "output_type": "execute_result"
    }
   ],
   "source": [
    "test_dataset.df.shape"
   ]
  },
  {
   "cell_type": "code",
   "execution_count": 19,
   "metadata": {},
   "outputs": [],
   "source": [
    "from transformers import DistilBertTokenizer\n",
    "tokenizer = DistilBertTokenizer.from_pretrained(\"distilbert-base-german-cased\")\n",
    "\n",
    "def create_model_inputs(df, length, start=0):\n",
    "    texts = [p for p in df.df.text[start:length]]\n",
    "    model_inputs = tokenizer(texts, padding=True,truncation=True,max_length=200)\n",
    "    for i in model_inputs.data.keys():\n",
    "        model_inputs[i] = torch.LongTensor(model_inputs[i])\n",
    "        \n",
    "    numerical_feats = torch.from_numpy(df.numerical_feats[start:length]).type(torch.FloatTensor)\n",
    "    categorical_feat = torch.tensor(df.cat_feats[start:length,:])\n",
    "    labels = torch.tensor(df.labels[start:length])\n",
    "    \n",
    "    model_inputs['cat_feats'] = categorical_feat\n",
    "    model_inputs['num_feats'] = numerical_feats\n",
    "    model_inputs['labels'] = labels\n",
    "    return model_inputs"
   ]
  },
  {
   "cell_type": "code",
   "execution_count": 20,
   "metadata": {},
   "outputs": [],
   "source": [
    "# added extra\n",
    "import torch\n",
    "import gc\n",
    "gc.collect()\n",
    "torch.cuda.empty_cache()"
   ]
  },
  {
   "cell_type": "code",
   "execution_count": null,
   "metadata": {},
   "outputs": [
    {
     "name": "stdout",
     "output_type": "stream",
     "text": [
      "no loss\n",
      "no logits\n",
      "no layer_outs\n"
     ]
    },
    {
     "name": "stderr",
     "output_type": "stream",
     "text": [
      "100%|██████████| 1564/1564 [3:09:21<00:00,  7.26s/it]  \n"
     ]
    },
    {
     "ename": "IndexError",
     "evalue": "list index out of range",
     "output_type": "error",
     "traceback": [
      "\u001b[0;31m---------------------------------------------------------------------------\u001b[0m",
      "\u001b[0;31mIndexError\u001b[0m                                Traceback (most recent call last)",
      "\u001b[0;32m<ipython-input-21-ad4302d3a23a>\u001b[0m in \u001b[0;36m<module>\u001b[0;34m\u001b[0m\n\u001b[1;32m     36\u001b[0m     \u001b[0mpredictions\u001b[0m\u001b[0;34m.\u001b[0m\u001b[0mto_csv\u001b[0m\u001b[0;34m(\u001b[0m\u001b[0;34m'./prediction_weighted_feats_2epochs/predictions_'\u001b[0m\u001b[0;34m+\u001b[0m\u001b[0mstr\u001b[0m\u001b[0;34m(\u001b[0m\u001b[0mi\u001b[0m\u001b[0;34m)\u001b[0m\u001b[0;34m+\u001b[0m\u001b[0;34m'.csv'\u001b[0m\u001b[0;34m,\u001b[0m \u001b[0msep\u001b[0m \u001b[0;34m=\u001b[0m\u001b[0;34m';'\u001b[0m\u001b[0;34m)\u001b[0m\u001b[0;34m\u001b[0m\u001b[0;34m\u001b[0m\u001b[0m\n\u001b[1;32m     37\u001b[0m \u001b[0;34m\u001b[0m\u001b[0m\n\u001b[0;32m---> 38\u001b[0;31m \u001b[0mprint\u001b[0m\u001b[0;34m(\u001b[0m\u001b[0mtype\u001b[0m\u001b[0;34m(\u001b[0m\u001b[0mprediction_batches\u001b[0m\u001b[0;34m[\u001b[0m\u001b[0;36m0\u001b[0m\u001b[0;34m]\u001b[0m\u001b[0;34m)\u001b[0m\u001b[0;34m)\u001b[0m\u001b[0;34m\u001b[0m\u001b[0;34m\u001b[0m\u001b[0m\n\u001b[0m",
      "\u001b[0;31mIndexError\u001b[0m: list index out of range"
     ]
    }
   ],
   "source": [
    "from torch.autograd import Variable\n",
    "from tqdm import tqdm\n",
    "n_inputs = test_dataset.df.shape[0]\n",
    "\n",
    "prediction_batches = []\n",
    "try:\n",
    "    del loss\n",
    "except:\n",
    "    print(\"no loss\")\n",
    "try:\n",
    "    del logits, logits_n\n",
    "except:\n",
    "    print(\"no logits\")\n",
    "try:\n",
    "    del layer_outs\n",
    "except:\n",
    "    print(\"no layer_outs\")\n",
    "prefix = '../MMBT/Datasets/'\n",
    "test_df = pd.read_csv(prefix + 'test_for_db.tsv', sep='\\t')\n",
    "batches_size = 50\n",
    "\n",
    "for i in tqdm(range((n_inputs//batches_size)+1)):\n",
    "    model_inputs = create_model_inputs(test_dataset, (i+1)*batches_size, i*batches_size )\n",
    "    _, logits, _= model(\n",
    "        model_inputs['input_ids'],\n",
    "        labels=model_inputs['labels'],\n",
    "        cat_feats=model_inputs['cat_feats'],\n",
    "        numerical_feats=model_inputs['num_feats']\n",
    "    )\n",
    "    logits_n = Variable(logits, requires_grad=True)\n",
    "    predictions = tf.nn.softmax(logits_n.detach().numpy())\n",
    "    predictions = pd.DataFrame(data=np.concatenate([x.numpy() for x in predictions]).reshape(-1, 2),\n",
    "                          columns=['y_0', 'y_1'],\n",
    "                          index=test_dataset.df.index[i*batches_size:(i+1)*batches_size].to_numpy())\n",
    "\n",
    "    predictions.to_csv('./prediction_weighted_feats_2epochs/predictions_'+str(i)+'.csv', sep =';')\n",
    "    \n",
    "print(type(prediction_batches[0]))"
   ]
  },
  {
   "cell_type": "code",
   "execution_count": null,
   "metadata": {},
   "outputs": [],
   "source": [
    "predictions = pd.DataFrame(data=np.concatenate([x.numpy() for x in prediction_batches]).reshape(-1, 2),\n",
    "                          columns=['y_0', 'y_1'],\n",
    "                          index=test_dataset.df.index[:np.sum(prediction_batches)].to_numpy())\n",
    "\n",
    "predictions.to_csv('./predictions_mmbt.csv', sep =';')"
   ]
  }
 ],
 "metadata": {
  "kernelspec": {
   "display_name": "Python 3",
   "language": "python",
   "name": "python3"
  },
  "language_info": {
   "codemirror_mode": {
    "name": "ipython",
    "version": 3
   },
   "file_extension": ".py",
   "mimetype": "text/x-python",
   "name": "python",
   "nbconvert_exporter": "python",
   "pygments_lexer": "ipython3",
   "version": "3.7.3"
  }
 },
 "nbformat": 4,
 "nbformat_minor": 5
}
