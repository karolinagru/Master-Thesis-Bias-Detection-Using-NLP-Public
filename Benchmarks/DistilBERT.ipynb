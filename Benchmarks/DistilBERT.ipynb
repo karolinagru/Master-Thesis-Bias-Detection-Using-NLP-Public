{
 "cells": [
  {
   "cell_type": "code",
   "execution_count": null,
   "metadata": {},
   "outputs": [],
   "source": [
    "!pip install torch\n",
    "!pip install pytorch cudatoolkit=10.0 -c pytorch\n",
    "!pip install simpletransformers\n",
    "!pip install pytorch\n",
    "!pip install scipy\n",
    "!pip install scikit-learn\n",
    "!pip install transformers\n",
    "!pip install tensorboardx"
   ]
  },
  {
   "cell_type": "code",
   "execution_count": 21,
   "metadata": {},
   "outputs": [],
   "source": [
    "from simpletransformers.classification import ClassificationModel\n",
    "import pandas as pd\n",
    "import numpy as np\n",
    "import torch\n",
    "from sklearn import metrics\n",
    "cuda_available = torch.cuda.is_available()"
   ]
  },
  {
   "cell_type": "code",
   "execution_count": 22,
   "metadata": {},
   "outputs": [],
   "source": [
    "prefix = './data_text_labels/data_text_labels/'\n",
    "train_df = pd.read_csv(prefix + 'train_small.csv', sep=',')\n",
    "test_df = pd.read_csv(prefix + 'test_small.csv', sep=',')\n",
    "eval_df = pd.read_csv(prefix + 'val_small.csv', sep=',')"
   ]
  },
  {
   "cell_type": "code",
   "execution_count": 24,
   "metadata": {},
   "outputs": [],
   "source": [
    "train_df = train_df[[\"text\", \"feedback_realtor\"]]\n",
    "test_df = test_df[[\"text\", \"feedback_realtor\"]]\n",
    "eval_df = eval_df[[\"text\", \"feedback_realtor\"]]\n",
    "\n",
    "train_df.columns = [\"text\", \"labels\"]\n",
    "test_df.columns = [\"text\", \"labels\"]\n",
    "eval_df.columns = [\"text\", \"labels\"]\n",
    "\n",
    "train_df.labels = train_df.labels.astype(int)\n",
    "test_df.labels = test_df.labels.astype(int)\n",
    "eval_df.labels = eval_df.labels.astype(int)"
   ]
  },
  {
   "cell_type": "code",
   "execution_count": 26,
   "metadata": {},
   "outputs": [
    {
     "data": {
      "application/vnd.jupyter.widget-view+json": {
       "model_id": "f9d86f98d0c54335921949a048296434",
       "version_major": 2,
       "version_minor": 0
      },
      "text/plain": [
       "Downloading:   0%|          | 0.00/464 [00:00<?, ?B/s]"
      ]
     },
     "metadata": {},
     "output_type": "display_data"
    },
    {
     "data": {
      "application/vnd.jupyter.widget-view+json": {
       "model_id": "9f5e96f89a504a56a43111f18a367557",
       "version_major": 2,
       "version_minor": 0
      },
      "text/plain": [
       "Downloading:   0%|          | 0.00/270M [00:00<?, ?B/s]"
      ]
     },
     "metadata": {},
     "output_type": "display_data"
    },
    {
     "name": "stderr",
     "output_type": "stream",
     "text": [
      "Some weights of the model checkpoint at distilbert-base-german-cased were not used when initializing DistilBertForSequenceClassification: ['vocab_projector.weight', 'vocab_transform.bias', 'vocab_transform.weight', 'vocab_projector.bias', 'vocab_layer_norm.bias', 'vocab_layer_norm.weight']\n",
      "- This IS expected if you are initializing DistilBertForSequenceClassification from the checkpoint of a model trained on another task or with another architecture (e.g. initializing a BertForSequenceClassification model from a BertForPreTraining model).\n",
      "- This IS NOT expected if you are initializing DistilBertForSequenceClassification from the checkpoint of a model that you expect to be exactly identical (initializing a BertForSequenceClassification model from a BertForSequenceClassification model).\n",
      "Some weights of DistilBertForSequenceClassification were not initialized from the model checkpoint at distilbert-base-german-cased and are newly initialized: ['classifier.weight', 'classifier.bias', 'pre_classifier.bias', 'pre_classifier.weight']\n",
      "You should probably TRAIN this model on a down-stream task to be able to use it for predictions and inference.\n"
     ]
    },
    {
     "data": {
      "application/vnd.jupyter.widget-view+json": {
       "model_id": "b63695ffe65a4e258a863a454cedf1f1",
       "version_major": 2,
       "version_minor": 0
      },
      "text/plain": [
       "Downloading:   0%|          | 0.00/240k [00:00<?, ?B/s]"
      ]
     },
     "metadata": {},
     "output_type": "display_data"
    },
    {
     "data": {
      "application/vnd.jupyter.widget-view+json": {
       "model_id": "6e1c729aa3e54e9188d20f4cbab1b869",
       "version_major": 2,
       "version_minor": 0
      },
      "text/plain": [
       "Downloading:   0%|          | 0.00/479k [00:00<?, ?B/s]"
      ]
     },
     "metadata": {},
     "output_type": "display_data"
    },
    {
     "data": {
      "application/vnd.jupyter.widget-view+json": {
       "model_id": "3e761849539c409caaf20985cba39363",
       "version_major": 2,
       "version_minor": 0
      },
      "text/plain": [
       "Downloading:   0%|          | 0.00/29.0 [00:00<?, ?B/s]"
      ]
     },
     "metadata": {},
     "output_type": "display_data"
    }
   ],
   "source": [
    "model = ClassificationModel(\n",
    "    \"distilbert\", \"distilbert-base-german-cased\",\n",
    "    args={'save_steps': -1,\n",
    "          'output_dir': 'output_findata_maxseq200_2epochs_small_data/',\n",
    "          'cache_dir': 'cache_findata_maxseq200_2epochs_small_data/',\n",
    "          'max_seq_length': 200,\n",
    "          'overwrite_output_dir':True,\n",
    "          'evaluate_during_training_steps': 100000,\n",
    "          'learning_rate': 3e-5,\n",
    "          'train_batch_size':64,\n",
    "          'eval_batch_size':64,\n",
    "          'num_train_epochs': 2,\n",
    "          'evaluate_during_training':True,\n",
    "          'save_model_every_epoch': True,\n",
    "          'reprocess_input_data': True,\n",
    "          'use_multiprocessing':True,\n",
    "          'fp16': False,\n",
    "          'use_cuda':cuda_available})"
   ]
  },
  {
   "cell_type": "code",
   "execution_count": 27,
   "metadata": {},
   "outputs": [],
   "source": [
    "import sklearn"
   ]
  },
  {
   "cell_type": "code",
   "execution_count": 28,
   "metadata": {},
   "outputs": [
    {
     "data": {
      "application/vnd.jupyter.widget-view+json": {
       "model_id": "f900784a4b134b6abd6f595f763be248",
       "version_major": 2,
       "version_minor": 0
      },
      "text/plain": [
       "  0%|          | 0/241988 [00:00<?, ?it/s]"
      ]
     },
     "metadata": {},
     "output_type": "display_data"
    },
    {
     "data": {
      "application/vnd.jupyter.widget-view+json": {
       "model_id": "678b2ceccbec410b9d77a233727fa9e0",
       "version_major": 2,
       "version_minor": 0
      },
      "text/plain": [
       "Epoch:   0%|          | 0/2 [00:00<?, ?it/s]"
      ]
     },
     "metadata": {},
     "output_type": "display_data"
    },
    {
     "data": {
      "application/vnd.jupyter.widget-view+json": {
       "model_id": "7819d6c9550c452f9e7552534b254ab3",
       "version_major": 2,
       "version_minor": 0
      },
      "text/plain": [
       "Running Epoch 0 of 2:   0%|          | 0/3782 [00:00<?, ?it/s]"
      ]
     },
     "metadata": {},
     "output_type": "display_data"
    },
    {
     "data": {
      "application/vnd.jupyter.widget-view+json": {
       "model_id": "68c95d39b6cd4c05a902f5c932dab13e",
       "version_major": 2,
       "version_minor": 0
      },
      "text/plain": [
       "  0%|          | 0/40000 [00:00<?, ?it/s]"
      ]
     },
     "metadata": {},
     "output_type": "display_data"
    },
    {
     "data": {
      "application/vnd.jupyter.widget-view+json": {
       "model_id": "e4e60ccfc72f4cf5a474ad4c1ad1b9e8",
       "version_major": 2,
       "version_minor": 0
      },
      "text/plain": [
       "Running Epoch 1 of 2:   0%|          | 0/3782 [00:00<?, ?it/s]"
      ]
     },
     "metadata": {},
     "output_type": "display_data"
    },
    {
     "data": {
      "application/vnd.jupyter.widget-view+json": {
       "model_id": "8088ac5671794a35a7129de4e2e4a554",
       "version_major": 2,
       "version_minor": 0
      },
      "text/plain": [
       "  0%|          | 0/40000 [00:00<?, ?it/s]"
      ]
     },
     "metadata": {},
     "output_type": "display_data"
    },
    {
     "data": {
      "text/plain": [
       "(7564,\n",
       " {'global_step': [3782, 7564],\n",
       "  'tp': [9846, 15841],\n",
       "  'tn': [11098, 8043],\n",
       "  'fp': [4063, 7118],\n",
       "  'fn': [14993, 8998],\n",
       "  'mcc': [0.13080105507680004, 0.16507061066085363],\n",
       "  'train_loss': [0.6050631999969482, 0.6052338480949402],\n",
       "  'eval_loss': [0.6948309788703918, 0.6619427021026612],\n",
       "  'auroc': [0.6021133052202134, 0.6258229586492954],\n",
       "  'auprc': [0.7003936916508909, 0.7236442652013905],\n",
       "  'acc': [0.5236, 0.5971],\n",
       "  'f1': [0.5082068751935583, 0.6628310807983597]})"
      ]
     },
     "execution_count": 28,
     "metadata": {},
     "output_type": "execute_result"
    }
   ],
   "source": [
    "model.train_model(train_df, eval_df=eval_df, \n",
    "                  acc=sklearn.metrics.accuracy_score, \n",
    "                  f1= sklearn.metrics.f1_score)"
   ]
  },
  {
   "cell_type": "code",
   "execution_count": 29,
   "metadata": {},
   "outputs": [
    {
     "data": {
      "application/vnd.jupyter.widget-view+json": {
       "model_id": "512908e816cf43cab03097138fb0bdbd",
       "version_major": 2,
       "version_minor": 0
      },
      "text/plain": [
       "  0%|          | 0/40000 [00:00<?, ?it/s]"
      ]
     },
     "metadata": {},
     "output_type": "display_data"
    },
    {
     "data": {
      "application/vnd.jupyter.widget-view+json": {
       "model_id": "37ce4cd334c84d1ba1a994ede73044a0",
       "version_major": 2,
       "version_minor": 0
      },
      "text/plain": [
       "Running Evaluation:   0%|          | 0/625 [00:00<?, ?it/s]"
      ]
     },
     "metadata": {},
     "output_type": "display_data"
    }
   ],
   "source": [
    "# Evaluate the model\n",
    "result, model_outputs, wrong_predictions = model.eval_model(test_df)"
   ]
  },
  {
   "cell_type": "code",
   "execution_count": 33,
   "metadata": {},
   "outputs": [
    {
     "data": {
      "text/plain": [
       "array([[-0.29796714,  0.12419356],\n",
       "       [ 0.37828332, -0.34496585],\n",
       "       [-0.1689124 ,  0.02917221],\n",
       "       ...,\n",
       "       [-0.31877238,  0.08649933],\n",
       "       [-0.42517278,  0.14022636],\n",
       "       [ 0.28968126, -0.34911239]])"
      ]
     },
     "execution_count": 33,
     "metadata": {},
     "output_type": "execute_result"
    }
   ],
   "source": [
    "model_outputs"
   ]
  },
  {
   "cell_type": "code",
   "execution_count": 30,
   "metadata": {},
   "outputs": [
    {
     "data": {
      "text/plain": [
       "{'mcc': 0.171669451913312,\n",
       " 'tp': 15908,\n",
       " 'tn': 8086,\n",
       " 'fp': 6894,\n",
       " 'fn': 9112,\n",
       " 'auroc': 0.6262203268093136,\n",
       " 'auprc': 0.7266324318626005,\n",
       " 'eval_loss': 0.6622881922721863}"
      ]
     },
     "execution_count": 30,
     "metadata": {},
     "output_type": "execute_result"
    }
   ],
   "source": [
    "result"
   ]
  },
  {
   "cell_type": "code",
   "execution_count": null,
   "metadata": {},
   "outputs": [],
   "source": [
    "model = ClassificationModel(\n",
    "    \"distilbert\", \"distilbert-base-german-cased\",\n",
    "    args={'save_steps': -1,\n",
    "          'output_dir': 'output_findata_maxseq200_2epochs_small_data/',\n",
    "          'cache_dir': 'cache_findata_maxseq200_2epochs_small_data/',\n",
    "          'max_seq_length': 200,\n",
    "          'overwrite_output_dir':True,\n",
    "          'evaluate_during_training_steps': 100000,\n",
    "          'learning_rate': 3e-5,\n",
    "          'train_batch_size':64,\n",
    "          'eval_batch_size':64,\n",
    "          'num_train_epochs': 4,\n",
    "          'evaluate_during_training':True,\n",
    "          'save_model_every_epoch': True,\n",
    "          'reprocess_input_data': True,\n",
    "          'use_multiprocessing':True,\n",
    "          'fp16': False,\n",
    "          'use_cuda':cuda_available})"
   ]
  },
  {
   "cell_type": "code",
   "execution_count": 47,
   "metadata": {},
   "outputs": [],
   "source": [
    "import math\n",
    "def Convert_to_prob(x):\n",
    "    odds = math.exp(x)\n",
    "    prob = odds/(1+odds)\n",
    "    return prob\n",
    "Output_test_2epochs_short = pd.DataFrame([i[1] for i in model_outputs])"
   ]
  },
  {
   "cell_type": "code",
   "execution_count": 49,
   "metadata": {},
   "outputs": [],
   "source": [
    "Output_test_2epochs_short[0]=Output_test_2epochs_short[0].apply(Convert_to_prob)"
   ]
  },
  {
   "cell_type": "code",
   "execution_count": 51,
   "metadata": {},
   "outputs": [],
   "source": [
    "predictions = Output_test_2epochs_short"
   ]
  },
  {
   "cell_type": "code",
   "execution_count": 52,
   "metadata": {},
   "outputs": [],
   "source": [
    "predictions.to_csv('predictions_distilbert_2epochs_smalldata.csv',sep = ',')"
   ]
  },
  {
   "cell_type": "code",
   "execution_count": null,
   "metadata": {},
   "outputs": [],
   "source": []
  }
 ],
 "metadata": {
  "kernelspec": {
   "display_name": "Python 3",
   "language": "python",
   "name": "python3"
  },
  "language_info": {
   "codemirror_mode": {
    "name": "ipython",
    "version": 3
   },
   "file_extension": ".py",
   "mimetype": "text/x-python",
   "name": "python",
   "nbconvert_exporter": "python",
   "pygments_lexer": "ipython3",
   "version": "3.7.3"
  }
 },
 "nbformat": 4,
 "nbformat_minor": 5
}
