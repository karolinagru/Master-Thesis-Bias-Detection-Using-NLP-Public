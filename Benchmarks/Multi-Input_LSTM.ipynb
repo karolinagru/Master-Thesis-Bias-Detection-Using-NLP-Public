{
 "cells": [
  {
   "cell_type": "code",
   "execution_count": null,
   "metadata": {},
   "outputs": [],
   "source": [
    "!pip install tensorflow\n",
    "!pip  install absl-py\n",
    "!pip install pydot\n",
    "!pip install graphviz"
   ]
  },
  {
   "cell_type": "code",
   "execution_count": 1,
   "metadata": {},
   "outputs": [
    {
     "name": "stdout",
     "output_type": "stream",
     "text": [
      "2.5.0\n"
     ]
    }
   ],
   "source": [
    "import os\n",
    "import random\n",
    "import pandas as pd\n",
    "import numpy as np\n",
    "import tensorflow as tf\n",
    "import seaborn as sns\n",
    "from tensorflow.keras.optimizers import Adam\n",
    "import tensorflow\n",
    "from datetime import datetime\n",
    "from tensorflow.keras.models import Sequential\n",
    "from tensorflow.keras.layers import Input, LSTM, Bidirectional, Dense\n",
    "from tensorflow.keras.layers import Embedding, Flatten\n",
    "from tensorflow.keras.layers import MaxPooling1D, Dropout, Activation, Conv1D\n",
    "from tensorflow.keras.preprocessing.text import Tokenizer\n",
    "from tensorflow.keras.preprocessing import sequence\n",
    "from tensorflow.keras.callbacks import EarlyStopping, ModelCheckpoint\n",
    "from tensorflow.keras.models import load_model\n",
    "from sklearn import metrics\n",
    "from sklearn.model_selection import train_test_split\n",
    "from tensorflow.keras.utils import plot_model\n",
    "import matplotlib.pyplot as plt\n",
    "import warnings\n",
    "from tensorflow.keras import metrics\n",
    "from tensorflow.keras.preprocessing.sequence import pad_sequences\n",
    "#from tensorflow.keras.preprocessing import sequence\n",
    "# fix random seed for reproducibility\n",
    "np.random.seed(7)\n",
    "\n",
    "\n",
    "pd.options.display.max_colwidth = 6000\n",
    "pd.options.display.max_rows = 400\n",
    "np.set_printoptions(suppress=True)\n",
    "warnings.filterwarnings(\"ignore\")\n",
    "print(tf.__version__)"
   ]
  },
  {
   "cell_type": "code",
   "execution_count": 2,
   "metadata": {},
   "outputs": [],
   "source": [
    "#import numpy as np\n",
    "from tensorflow.keras.layers import *\n",
    "from tensorflow.keras.models import *\n",
    "from tensorflow.keras import backend as K"
   ]
  },
  {
   "cell_type": "code",
   "execution_count": 3,
   "metadata": {},
   "outputs": [],
   "source": [
    "prefix = '../Datasets_Small/'\n",
    "train_df = pd.read_csv(prefix + 'train.csv', sep=',')\n",
    "test_df = pd.read_csv(prefix + 'test.csv', sep=',')\n",
    "eval_df = pd.read_csv(prefix + 'val.csv', sep=',')"
   ]
  },
  {
   "cell_type": "code",
   "execution_count": 4,
   "metadata": {},
   "outputs": [],
   "source": [
    "train_df= train_df.drop('avg_res_realtor',axis =1)\n",
    "test_df=test_df.drop('avg_res_realtor',axis =1)\n",
    "eval_df=eval_df.drop('avg_res_realtor',axis =1)\n"
   ]
  },
  {
   "cell_type": "code",
   "execution_count": 5,
   "metadata": {},
   "outputs": [],
   "source": [
    "X_train = train_df.drop('feedback_realtor', axis=1)\n",
    "Y = train_df['feedback_realtor'].values"
   ]
  },
  {
   "cell_type": "code",
   "execution_count": 6,
   "metadata": {},
   "outputs": [],
   "source": [
    "X_test = eval_df.drop('feedback_realtor', axis=1)\n",
    "y_test = eval_df['feedback_realtor'].values"
   ]
  },
  {
   "cell_type": "code",
   "execution_count": 7,
   "metadata": {},
   "outputs": [],
   "source": [
    "from sklearn.preprocessing import LabelEncoder\n",
    "encoder = LabelEncoder()\n",
    "encoder.fit(Y)\n",
    "encoded_Y = encoder.transform(Y)\n",
    "y_test = encoder.transform(y_test)"
   ]
  },
  {
   "cell_type": "code",
   "execution_count": 8,
   "metadata": {},
   "outputs": [],
   "source": [
    "y_train = encoded_Y"
   ]
  },
  {
   "cell_type": "code",
   "execution_count": 9,
   "metadata": {},
   "outputs": [],
   "source": [
    "y_test = np.array(y_test).reshape((-1, 1))\n",
    "y_train = np.array(y_train).reshape((-1, 1))"
   ]
  },
  {
   "cell_type": "code",
   "execution_count": 10,
   "metadata": {},
   "outputs": [],
   "source": [
    "X1_test = X_test['text']\n",
    "X1_train = X_train['text']"
   ]
  },
  {
   "cell_type": "code",
   "execution_count": 17,
   "metadata": {},
   "outputs": [],
   "source": [
    "tokenizer = Tokenizer(lower=True, split=\" \",num_words=50000)\n",
    "tokenizer.fit_on_texts(X1_train)\n",
    "\n",
    "X1_train = tokenizer.texts_to_sequences(X1_train)\n",
    "X1_test = tokenizer.texts_to_sequences(X1_test)\n",
    "\n",
    "vocab_size = len(tokenizer.word_index) + 1\n",
    "\n",
    "maxlen = 200\n",
    "\n",
    "X1_train = pad_sequences(X1_train, padding='post', maxlen=maxlen)\n",
    "X1_test = pad_sequences(X1_test, padding='post', maxlen=maxlen)"
   ]
  },
  {
   "cell_type": "code",
   "execution_count": 18,
   "metadata": {},
   "outputs": [
    {
     "data": {
      "text/plain": [
       "array([[49, 54,  6, ...,  0,  0,  0],\n",
       "       [62, 40,  1, ...,  0,  0,  0],\n",
       "       [ 3, 55, 40, ...,  0,  0,  0],\n",
       "       ...,\n",
       "       [ 3, 55, 40, ...,  0,  0,  0],\n",
       "       [49, 54, 34, ...,  0,  0,  0],\n",
       "       [ 3, 39, 41, ...,  0,  0,  0]], dtype=int32)"
      ]
     },
     "execution_count": 18,
     "metadata": {},
     "output_type": "execute_result"
    }
   ],
   "source": [
    "X1_train"
   ]
  },
  {
   "cell_type": "code",
   "execution_count": 11,
   "metadata": {},
   "outputs": [],
   "source": [
    "X2_train = X_train[['income_group', 'employment_group', 'age_decade','marital_status','nationality']]\n",
    "X2_test = X_test[['income_group', 'employment_group', 'age_decade','marital_status','nationality']]"
   ]
  },
  {
   "cell_type": "code",
   "execution_count": 12,
   "metadata": {},
   "outputs": [
    {
     "data": {
      "text/plain": [
       "(40000, 1)"
      ]
     },
     "execution_count": 12,
     "metadata": {},
     "output_type": "execute_result"
    }
   ],
   "source": [
    "y_test.shape"
   ]
  },
  {
   "cell_type": "code",
   "execution_count": 13,
   "metadata": {},
   "outputs": [
    {
     "data": {
      "text/plain": [
       "(40000, 5)"
      ]
     },
     "execution_count": 13,
     "metadata": {},
     "output_type": "execute_result"
    }
   ],
   "source": [
    "X2_test.shape"
   ]
  },
  {
   "cell_type": "code",
   "execution_count": 14,
   "metadata": {},
   "outputs": [],
   "source": [
    "from sklearn.preprocessing import OneHotEncoder"
   ]
  },
  {
   "cell_type": "code",
   "execution_count": 15,
   "metadata": {},
   "outputs": [],
   "source": [
    "def prepare_inputs(X2_train, X2_test):\n",
    "    ohe = OneHotEncoder()\n",
    "    ohe.fit(X2_train)\n",
    "    X_train_enc = ohe.transform(X2_train)\n",
    "    X_test_enc = ohe.transform(X2_test)\n",
    "    return X_train_enc, X_test_enc"
   ]
  },
  {
   "cell_type": "code",
   "execution_count": 16,
   "metadata": {},
   "outputs": [],
   "source": [
    "X_train_enc, X_test_enc = prepare_inputs(X2_train, X2_test)"
   ]
  },
  {
   "cell_type": "code",
   "execution_count": 17,
   "metadata": {},
   "outputs": [
    {
     "data": {
      "text/plain": [
       "(241988, 30)"
      ]
     },
     "execution_count": 17,
     "metadata": {},
     "output_type": "execute_result"
    }
   ],
   "source": [
    "X_train_enc.shape"
   ]
  },
  {
   "cell_type": "code",
   "execution_count": 25,
   "metadata": {},
   "outputs": [],
   "source": [
    "X2_train = X_train_enc\n",
    "X2_test = X_test_enc"
   ]
  },
  {
   "cell_type": "code",
   "execution_count": 26,
   "metadata": {},
   "outputs": [],
   "source": [
    "input_1 = Input(shape=(maxlen,))\n",
    "input_2 = Input(shape=(30,))"
   ]
  },
  {
   "cell_type": "code",
   "execution_count": 27,
   "metadata": {},
   "outputs": [],
   "source": [
    "# Text Vectors\n",
    "MAX_FEATURES = 70000\n",
    "EMBED_DIM = 200\n",
    "MAXLEN = 200"
   ]
  },
  {
   "cell_type": "code",
   "execution_count": 28,
   "metadata": {},
   "outputs": [],
   "source": [
    "opt = tensorflow.keras.optimizers.Adam(learning_rate=3e-05)"
   ]
  },
  {
   "cell_type": "code",
   "execution_count": 29,
   "metadata": {},
   "outputs": [
    {
     "name": "stdout",
     "output_type": "stream",
     "text": [
      "Model: \"model\"\n",
      "__________________________________________________________________________________________________\n",
      "Layer (type)                    Output Shape         Param #     Connected to                     \n",
      "==================================================================================================\n",
      "input_1 (InputLayer)            [(None, 200)]        0                                            \n",
      "__________________________________________________________________________________________________\n",
      "input_2 (InputLayer)            [(None, 30)]         0                                            \n",
      "__________________________________________________________________________________________________\n",
      "embedding (Embedding)           (None, 200, 200)     10000000    input_1[0][0]                    \n",
      "__________________________________________________________________________________________________\n",
      "dense (Dense)                   (None, 90)           2790        input_2[0][0]                    \n",
      "__________________________________________________________________________________________________\n",
      "bidirectional (Bidirectional)   (None, 400)          641600      embedding[0][0]                  \n",
      "__________________________________________________________________________________________________\n",
      "dense_1 (Dense)                 (None, 60)           5460        dense[0][0]                      \n",
      "__________________________________________________________________________________________________\n",
      "concatenate (Concatenate)       (None, 460)          0           bidirectional[0][0]              \n",
      "                                                                 dense_1[0][0]                    \n",
      "__________________________________________________________________________________________________\n",
      "dense_2 (Dense)                 (None, 30)           13830       concatenate[0][0]                \n",
      "__________________________________________________________________________________________________\n",
      "dense_3 (Dense)                 (None, 1)            31          dense_2[0][0]                    \n",
      "==================================================================================================\n",
      "Total params: 10,663,711\n",
      "Trainable params: 10,663,711\n",
      "Non-trainable params: 0\n",
      "__________________________________________________________________________________________________\n",
      "None\n"
     ]
    }
   ],
   "source": [
    "#embedding_layer = Embedding(input_dim=MAX_FEATURES, output_dim=EMBED_DIM, input_length=MAXLEN)(input_1)\n",
    "#LSTM_Layer_1 = Bidirectional(LSTM(EMBED_DIM,recurrent_dropout=0.3, kernel_regularizer=tensorflow.keras.regularizers.l2(0.01)))(embedding_layer)\n",
    "\n",
    "\n",
    "embedding_layer = Embedding(input_dim=MAX_FEATURES, output_dim=EMBED_DIM, input_length=MAXLEN)(input_1)\n",
    "LSTM_Layer_1 = Bidirectional(LSTM(EMBED_DIM, dropout=0.1)) (embedding_layer)\n",
    "dense_layer_1 = Dense(90, activation='relu')(input_2)\n",
    "dense_layer_2 = Dense(60, activation='relu')(dense_layer_1)\n",
    "concat_layer = Concatenate()([LSTM_Layer_1, dense_layer_2])\n",
    "dense_layer_3 = Dense(30, activation='relu')(concat_layer)\n",
    "output = Dense(1, activation='sigmoid')(dense_layer_3)\n",
    "model = Model(inputs=[input_1, input_2], outputs=output)\n",
    "\n",
    "\n",
    "model.compile(loss='binary_crossentropy', optimizer=opt, metrics=['acc', 'AUC'])\n",
    "print(model.summary())"
   ]
  },
  {
   "cell_type": "code",
   "execution_count": 30,
   "metadata": {},
   "outputs": [
    {
     "data": {
      "image/png": "[encoded data removed]",
      "text/plain": [
       "<IPython.core.display.Image object>"
      ]
     },
     "execution_count": 30,
     "metadata": {},
     "output_type": "execute_result"
    }
   ],
   "source": [
    "plot_model(model, to_file='model_plot3.png', show_shapes=True, show_layer_names=True)"
   ]
  },
  {
   "cell_type": "code",
   "execution_count": 31,
   "metadata": {},
   "outputs": [],
   "source": [
    "x_test=[X1_test, X2_test] \n",
    "y_test=y_test"
   ]
  },
  {
   "cell_type": "code",
   "execution_count": 32,
   "metadata": {},
   "outputs": [],
   "source": [
    "strategy = tf.distribute.get_strategy()\n",
    "batch_size  = 256 * strategy.num_replicas_in_sync\n",
    "epochs = 10"
   ]
  },
  {
   "cell_type": "code",
   "execution_count": 33,
   "metadata": {},
   "outputs": [],
   "source": [
    "PATH_DATA = './Datasets_Small/'\n",
    "PATH_MODELS = PATH_DATA + \"models/1807_smalldata_lr=0.001/\"\n",
    "PATH_CHECKPOINTS = PATH_MODELS + \"checkpoints/\"\n",
    "\n",
    "\n",
    "# Stop training when validation acc starts dropping\n",
    "# Save checkpoint of model each period\n",
    "now = datetime.now().strftime(\"%Y-%m-%d_%H%M\")\n",
    "# Create callbacks\n",
    "callbacks = [\n",
    "    EarlyStopping(monitor=\"val_loss\", verbose=1, patience=1),\n",
    "    ModelCheckpoint(\n",
    "        PATH_CHECKPOINTS + now + \"_Model_{epoch:02d}_{val_loss:.4f}.h5\",\n",
    "        monitor=\"val_loss\",\n",
    "        save_best_only=True,\n",
    "        verbose=1,\n",
    "    ),\n",
    "]"
   ]
  },
  {
   "cell_type": "code",
   "execution_count": 34,
   "metadata": {},
   "outputs": [
    {
     "name": "stdout",
     "output_type": "stream",
     "text": [
      "Model Params.\n",
      "batch_size: 256\n",
      "Epochs: 10\n",
      "Step p. Epoch: 945\n",
      "\n",
      "Epoch 1/10\n",
      "945/945 [==============================] - 2726s 3s/step - loss: 0.6630 - acc: 0.5820 - auc: 0.6233 - val_loss: 0.6439 - val_acc: 0.6020 - val_auc: 0.6593\n",
      "\n",
      "Epoch 00001: val_loss improved from inf to 0.64388, saving model to ./Datasets_Small/models/1807_smalldata_lr=0.001/checkpoints/2021-07-18_1917_Model_01_0.6439.h5\n",
      "Epoch 2/10\n",
      "945/945 [==============================] - 2625s 3s/step - loss: 0.6154 - acc: 0.6399 - auc: 0.7053 - val_loss: 0.6398 - val_acc: 0.6218 - val_auc: 0.6641\n",
      "\n",
      "Epoch 00002: val_loss improved from 0.64388 to 0.63976, saving model to ./Datasets_Small/models/1807_smalldata_lr=0.001/checkpoints/2021-07-18_1917_Model_02_0.6398.h5\n",
      "Epoch 3/10\n",
      "945/945 [==============================] - 2739s 3s/step - loss: 0.5789 - acc: 0.6746 - auc: 0.7515 - val_loss: 0.6542 - val_acc: 0.6313 - val_auc: 0.6621\n",
      "\n",
      "Epoch 00003: val_loss did not improve from 0.63976\n",
      "Epoch 00003: early stopping\n"
     ]
    }
   ],
   "source": [
    "# Fit the model\n",
    "steps_per_epoch = int(np.floor((len(X1_train) / batch_size)))\n",
    "print(\n",
    "    f\"Model Params.\\nbatch_size: {batch_size}\\nEpochs: {epochs}\\n\"\n",
    "    f\"Step p. Epoch: {steps_per_epoch}\\n\"\n",
    ")\n",
    "\n",
    "hist = model.fit(\n",
    "   x=[X1_train, X2_train],\n",
    "    y=y_train, \n",
    "    batch_size=batch_size, \n",
    "    epochs=10,\n",
    "    steps_per_epoch=steps_per_epoch,\n",
    "    callbacks=callbacks,\n",
    "    validation_data=(x_test, y_test),\n",
    ")"
   ]
  },
  {
   "cell_type": "code",
   "execution_count": 35,
   "metadata": {},
   "outputs": [
    {
     "name": "stderr",
     "output_type": "stream",
     "text": [
      "WARNING:absl:Found untraced functions such as lstm_cell_4_layer_call_and_return_conditional_losses, lstm_cell_4_layer_call_fn, lstm_cell_5_layer_call_and_return_conditional_losses, lstm_cell_5_layer_call_fn, lstm_cell_4_layer_call_fn while saving (showing 5 of 10). These functions will not be directly callable after loading.\n"
     ]
    },
    {
     "name": "stdout",
     "output_type": "stream",
     "text": [
      "INFO:tensorflow:Assets written to: MM_LSTM_4_epochs_1707_small_data/assets\n"
     ]
    },
    {
     "name": "stderr",
     "output_type": "stream",
     "text": [
      "INFO:tensorflow:Assets written to: MM_LSTM_4_epochs_1707_small_data/assets\n"
     ]
    }
   ],
   "source": [
    "model.save(\"MM_LSTM_4_epochs\")"
   ]
  }
 ],
 "metadata": {
  "kernelspec": {
   "display_name": "Python 3",
   "language": "python",
   "name": "python3"
  },
  "language_info": {
   "codemirror_mode": {
    "name": "ipython",
    "version": 3
   },
   "file_extension": ".py",
   "mimetype": "text/x-python",
   "name": "python",
   "nbconvert_exporter": "python",
   "pygments_lexer": "ipython3",
   "version": "3.7.3"
  }
 },
 "nbformat": 4,
 "nbformat_minor": 5
}
